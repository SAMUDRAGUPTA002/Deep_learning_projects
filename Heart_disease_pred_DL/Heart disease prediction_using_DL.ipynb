{
 "cells": [
  {
   "cell_type": "code",
   "execution_count": 10,
   "id": "ac009d2d-97d0-4bac-b381-17c034cb3206",
   "metadata": {},
   "outputs": [],
   "source": [
    "import pandas as pd\n",
    "import numpy as np\n",
    "from sklearn.model_selection import train_test_split\n",
    "from sklearn.preprocessing import LabelEncoder, StandardScaler\n",
    "import tensorflow as tf\n",
    "from tensorflow import keras\n",
    "from tensorflow.keras import layers"
   ]
  },
  {
   "cell_type": "code",
   "execution_count": 11,
   "id": "df2d7d44-674a-410c-88f2-aa05b57a5378",
   "metadata": {},
   "outputs": [],
   "source": [
    "# Load dataset\n",
    "file_path = \"heart_disease_uci.csv\"  # Update path if needed\n",
    "df = pd.read_csv(file_path)\n"
   ]
  },
  {
   "cell_type": "code",
   "execution_count": 12,
   "id": "a2d5283f-97e5-4fc9-a04b-cdb48209a9f3",
   "metadata": {},
   "outputs": [],
   "source": [
    "# Drop unnecessary columns\n",
    "df = df.drop(columns=['id', 'dataset'], errors='ignore')\n"
   ]
  },
  {
   "cell_type": "code",
   "execution_count": 13,
   "id": "92d3d300-edad-4246-9168-6130c86ae7f3",
   "metadata": {},
   "outputs": [],
   "source": [
    "# Convert target variable: presence of heart disease (num > 0 -> 1, else 0)\n",
    "df['num'] = (df['num'] > 0).astype(int)"
   ]
  },
  {
   "cell_type": "code",
   "execution_count": 14,
   "id": "6e299155-3120-420d-8a48-6c9ae908eabf",
   "metadata": {},
   "outputs": [],
   "source": [
    "# Fill missing numerical values with the median\n",
    "numerical_cols = ['trestbps', 'chol', 'thalch', 'oldpeak', 'ca']\n",
    "for col in numerical_cols:\n",
    "    df[col] = df[col].fillna(df[col].median())"
   ]
  },
  {
   "cell_type": "code",
   "execution_count": 15,
   "id": "60ba152b-1694-4a80-8c37-0c4cdc0c5101",
   "metadata": {},
   "outputs": [],
   "source": [
    "# Encode categorical variables\n",
    "from sklearn.preprocessing import LabelEncoder, StandardScaler\n",
    "categorical_cols = ['sex', 'cp', 'fbs', 'restecg', 'exang', 'slope', 'thal']\n",
    "encoder = LabelEncoder()\n",
    "for col in categorical_cols:\n",
    "    df[col] = encoder.fit_transform(df[col].astype(str))"
   ]
  },
  {
   "cell_type": "code",
   "execution_count": 17,
   "id": "bbc69591-3867-41a1-ab10-2f1530fd0dc2",
   "metadata": {},
   "outputs": [],
   "source": [
    "#Split into features and target\n",
    "X = df.drop(columns=['num'])\n",
    "y = df['num']\n"
   ]
  },
  {
   "cell_type": "code",
   "execution_count": 19,
   "id": "c93f00e4-6120-463c-ba35-d69d4fe648e6",
   "metadata": {},
   "outputs": [],
   "source": [
    "# Split into train-test sets\n",
    "X_train, X_test, y_train, y_test = train_test_split(X, y, test_size=0.2, random_state=42)"
   ]
  },
  {
   "cell_type": "code",
   "execution_count": 20,
   "id": "04d54a96-ebd7-44ad-b311-4e31f5b540e4",
   "metadata": {},
   "outputs": [],
   "source": [
    "# Define ANN model\n",
    "def build_ann():\n",
    "    model = keras.Sequential([\n",
    "        layers.Dense(32, activation='relu', input_shape=(X.shape[1],)),\n",
    "        layers.Dense(16, activation='relu'),\n",
    "        layers.Dense(1, activation='sigmoid')\n",
    "    ])\n",
    "    model.compile(optimizer='adam', loss='binary_crossentropy', metrics=['accuracy'])\n",
    "    return model"
   ]
  },
  {
   "cell_type": "code",
   "execution_count": 10,
   "id": "ab538e00-f248-4984-a546-f012f0b7b1bb",
   "metadata": {},
   "outputs": [
    {
     "name": "stdout",
     "output_type": "stream",
     "text": [
      "Accuracy: 83.04%\n",
      "Confusion Matrix:\n",
      "[[890  33]\n",
      " [153  21]]\n",
      "Classification Report:\n",
      "              precision    recall  f1-score   support\n",
      "\n",
      "           0       0.85      0.96      0.91       923\n",
      "           1       0.39      0.12      0.18       174\n",
      "\n",
      "    accuracy                           0.83      1097\n",
      "   macro avg       0.62      0.54      0.54      1097\n",
      "weighted avg       0.78      0.83      0.79      1097\n",
      "\n"
     ]
    }
   ],
   "source": [
    "# Accuracy Score\n",
    "accuracy = accuracy_score(y_test, y_pred)\n",
    "print(f\"Accuracy: {accuracy * 100:.2f}%\")\n",
    "\n",
    "# Confusion Matrix\n",
    "print(\"Confusion Matrix:\")\n",
    "print(confusion_matrix(y_test, y_pred))\n",
    "\n",
    "# Classification Report\n",
    "print(\"Classification Report:\")\n",
    "print(classification_report(y_test, y_pred))\n"
   ]
  },
  {
   "cell_type": "code",
   "execution_count": 21,
   "id": "98e3731f-afb8-4168-8a40-618f39236919",
   "metadata": {},
   "outputs": [],
   "source": [
    "# Define CNN model\n",
    "def build_cnn():\n",
    "    model = keras.Sequential([\n",
    "        layers.Reshape((X.shape[1], 1, 1), input_shape=(X.shape[1],)),\n",
    "        layers.Conv2D(16, (3, 1), activation='relu', padding='same'),\n",
    "        layers.Flatten(),\n",
    "        layers.Dense(16, activation='relu'),\n",
    "        layers.Dense(1, activation='sigmoid')\n",
    "    ])\n",
    "    model.compile(optimizer='adam', loss='binary_crossentropy', metrics=['accuracy'])\n",
    "    return model"
   ]
  },
  {
   "cell_type": "code",
   "execution_count": 22,
   "id": "cf91fb22-0993-4328-88f6-f1834c40d09a",
   "metadata": {},
   "outputs": [],
   "source": [
    "# Define LSTM model\n",
    "def build_lstm():\n",
    "    model = keras.Sequential([\n",
    "        layers.Reshape((X.shape[1], 1), input_shape=(X.shape[1],)),\n",
    "        layers.LSTM(16, activation='relu', return_sequences=False),\n",
    "        layers.Dense(16, activation='relu'),\n",
    "        layers.Dense(1, activation='sigmoid')\n",
    "    ])\n",
    "    model.compile(optimizer='adam', loss='binary_crossentropy', metrics=['accuracy'])\n",
    "    return model\n"
   ]
  },
  {
   "cell_type": "code",
   "execution_count": 24,
   "id": "de499588-de4a-4194-a815-cbb29b44a108",
   "metadata": {},
   "outputs": [],
   "source": [
    "#Define Autoencoder model\n",
    "def build_autoencoder():\n",
    "    encoder = keras.Sequential([\n",
    "        layers.Dense(8, activation='relu', input_shape=(X.shape[1],))\n",
    "    ])\n",
    "    decoder = keras.Sequential([\n",
    "        layers.Dense(X.shape[1], activation='sigmoid')\n",
    "    ])\n",
    "    autoencoder = keras.Sequential([encoder, decoder])\n",
    "    autoencoder.compile(optimizer='adam', loss='mse')\n",
    "    return autoencoder\n"
   ]
  },
  {
   "cell_type": "code",
   "execution_count": 25,
   "id": "f0d811b5-c45e-4550-9669-30e3ba5e8f07",
   "metadata": {},
   "outputs": [
    {
     "name": "stderr",
     "output_type": "stream",
     "text": [
      "C:\\Users\\bosss\\AppData\\Roaming\\Python\\Python311\\site-packages\\keras\\src\\layers\\core\\dense.py:87: UserWarning: Do not pass an `input_shape`/`input_dim` argument to a layer. When using Sequential models, prefer using an `Input(shape)` object as the first layer in the model instead.\n",
      "  super().__init__(activity_regularizer=activity_regularizer, **kwargs)\n",
      "C:\\Users\\bosss\\AppData\\Roaming\\Python\\Python311\\site-packages\\keras\\src\\layers\\reshaping\\reshape.py:39: UserWarning: Do not pass an `input_shape`/`input_dim` argument to a layer. When using Sequential models, prefer using an `Input(shape)` object as the first layer in the model instead.\n",
      "  super().__init__(**kwargs)\n"
     ]
    }
   ],
   "source": [
    "# Initialize models\n",
    "ann = build_ann()\n",
    "cnn = build_cnn()\n",
    "lstm = build_lstm()\n",
    "autoencoder = build_autoencoder()\n"
   ]
  },
  {
   "cell_type": "code",
   "execution_count": 26,
   "id": "8de63979-32aa-47e2-8b75-ada2aac2fba6",
   "metadata": {},
   "outputs": [
    {
     "data": {
      "text/plain": [
       "<keras.src.callbacks.history.History at 0x150946aead0>"
      ]
     },
     "execution_count": 26,
     "metadata": {},
     "output_type": "execute_result"
    }
   ],
   "source": [
    "# Train all models\n",
    "ann.fit(X_train, y_train, epochs=20, batch_size=16, verbose=0)\n",
    "cnn.fit(X_train, y_train, epochs=20, batch_size=16, verbose=0)\n",
    "lstm.fit(X_train, y_train, epochs=20, batch_size=16, verbose=0)\n",
    "autoencoder.fit(X_train, X_train, epochs=20, batch_size=16, verbose=0)"
   ]
  },
  {
   "cell_type": "code",
   "execution_count": 27,
   "id": "5a1656db-5686-40d3-9151-d61b27ba64d0",
   "metadata": {},
   "outputs": [],
   "source": [
    "# Evaluate models\n",
    "ann_acc = ann.evaluate(X_test, y_test, verbose=0)[1]\n",
    "cnn_acc = cnn.evaluate(X_test, y_test, verbose=0)[1]\n",
    "lstm_acc = lstm.evaluate(X_test, y_test, verbose=0)[1]"
   ]
  },
  {
   "cell_type": "code",
   "execution_count": 28,
   "id": "464318b8-4df2-46ec-9f83-57792d5a1f6b",
   "metadata": {},
   "outputs": [],
   "source": [
    "# Autoencoder evaluation (reconstruction loss)\n",
    "autoencoder_loss = autoencoder.evaluate(X_test, X_test, verbose=0)"
   ]
  },
  {
   "cell_type": "code",
   "execution_count": 29,
   "id": "190e74b4-0264-4edf-aaa5-fcbcea039550",
   "metadata": {},
   "outputs": [
    {
     "name": "stdout",
     "output_type": "stream",
     "text": [
      "ANN Accuracy: 0.8315\n",
      "CNN Accuracy: 0.8424\n",
      "LSTM Accuracy: 0.7609\n",
      "Autoencoder Loss: 0.7294\n"
     ]
    }
   ],
   "source": [
    "# Print results\n",
    "print(f\"ANN Accuracy: {ann_acc:.4f}\")\n",
    "print(f\"CNN Accuracy: {cnn_acc:.4f}\")\n",
    "print(f\"LSTM Accuracy: {lstm_acc:.4f}\")\n",
    "print(f\"Autoencoder Loss: {autoencoder_loss:.4f}\")\n"
   ]
  },
  {
   "cell_type": "code",
   "execution_count": null,
   "id": "f95ce92e-af28-4661-aa78-a049ada63c30",
   "metadata": {},
   "outputs": [],
   "source": []
  }
 ],
 "metadata": {
  "kernelspec": {
   "display_name": "Python 3 (ipykernel)",
   "language": "python",
   "name": "python3"
  },
  "language_info": {
   "codemirror_mode": {
    "name": "ipython",
    "version": 3
   },
   "file_extension": ".py",
   "mimetype": "text/x-python",
   "name": "python",
   "nbconvert_exporter": "python",
   "pygments_lexer": "ipython3",
   "version": "3.11.7"
  }
 },
 "nbformat": 4,
 "nbformat_minor": 5
}
